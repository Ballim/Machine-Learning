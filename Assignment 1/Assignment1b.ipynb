{
 "cells": [
  {
   "cell_type": "markdown",
   "metadata": {},
   "source": [
    "# ACML Assignment 1B - Ziyaad Ballim (Student No. 1828251)"
   ]
  },
  {
   "cell_type": "markdown",
   "metadata": {},
   "source": [
    "Import libraries"
   ]
  },
  {
   "cell_type": "code",
   "execution_count": 147,
   "metadata": {},
   "outputs": [],
   "source": [
    "import numpy as np\n",
    "import time\n",
    "import matplotlib.pyplot as plt\n",
    "import pandas as pd\n",
    "from sklearn.model_selection import train_test_split\n",
    "from sklearn.preprocessing import StandardScaler\n",
    "from tabulate import tabulate"
   ]
  },
  {
   "cell_type": "markdown",
   "metadata": {},
   "source": [
    "# About the data\n",
    "This dataset was found online. The dataset was already split into training and testing data with a 70/30 split so it was left as is in the two csv files. \n",
    "This data is single featured with continuous data making ideal for the linear regression which we are to implement. Slight cleaning was applied to the data in order to eliminate null/missing values and to deal with extreme outlieres that would affect the computations. "
   ]
  },
  {
   "cell_type": "markdown",
   "metadata": {},
   "source": [
    "Read in data file"
   ]
  },
  {
   "cell_type": "code",
   "execution_count": 148,
   "metadata": {},
   "outputs": [],
   "source": [
    "traindf=pd.read_csv('train.csv')\n",
    "ydf=traindf['y']\n",
    "xdf= traindf['x']\n",
    "\n",
    "testdf=pd.read_csv('test.csv')\n",
    "ydftest=testdf['y']\n",
    "xdftest=testdf['x']"
   ]
  },
  {
   "cell_type": "code",
   "execution_count": 149,
   "metadata": {},
   "outputs": [
    {
     "data": {
      "text/html": [
       "<div>\n",
       "<style scoped>\n",
       "    .dataframe tbody tr th:only-of-type {\n",
       "        vertical-align: middle;\n",
       "    }\n",
       "\n",
       "    .dataframe tbody tr th {\n",
       "        vertical-align: top;\n",
       "    }\n",
       "\n",
       "    .dataframe thead th {\n",
       "        text-align: right;\n",
       "    }\n",
       "</style>\n",
       "<table border=\"1\" class=\"dataframe\">\n",
       "  <thead>\n",
       "    <tr style=\"text-align: right;\">\n",
       "      <th></th>\n",
       "      <th>x</th>\n",
       "      <th>y</th>\n",
       "    </tr>\n",
       "  </thead>\n",
       "  <tbody>\n",
       "    <tr>\n",
       "      <th>count</th>\n",
       "      <td>699.000000</td>\n",
       "      <td>699.000000</td>\n",
       "    </tr>\n",
       "    <tr>\n",
       "      <th>mean</th>\n",
       "      <td>50.014306</td>\n",
       "      <td>49.939869</td>\n",
       "    </tr>\n",
       "    <tr>\n",
       "      <th>std</th>\n",
       "      <td>28.954560</td>\n",
       "      <td>29.109217</td>\n",
       "    </tr>\n",
       "    <tr>\n",
       "      <th>min</th>\n",
       "      <td>0.000000</td>\n",
       "      <td>-3.839981</td>\n",
       "    </tr>\n",
       "    <tr>\n",
       "      <th>25%</th>\n",
       "      <td>25.000000</td>\n",
       "      <td>24.929968</td>\n",
       "    </tr>\n",
       "    <tr>\n",
       "      <th>50%</th>\n",
       "      <td>49.000000</td>\n",
       "      <td>48.973020</td>\n",
       "    </tr>\n",
       "    <tr>\n",
       "      <th>75%</th>\n",
       "      <td>75.000000</td>\n",
       "      <td>74.929911</td>\n",
       "    </tr>\n",
       "    <tr>\n",
       "      <th>max</th>\n",
       "      <td>100.000000</td>\n",
       "      <td>108.871618</td>\n",
       "    </tr>\n",
       "  </tbody>\n",
       "</table>\n",
       "</div>"
      ],
      "text/plain": [
       "                x           y\n",
       "count  699.000000  699.000000\n",
       "mean    50.014306   49.939869\n",
       "std     28.954560   29.109217\n",
       "min      0.000000   -3.839981\n",
       "25%     25.000000   24.929968\n",
       "50%     49.000000   48.973020\n",
       "75%     75.000000   74.929911\n",
       "max    100.000000  108.871618"
      ]
     },
     "execution_count": 149,
     "metadata": {},
     "output_type": "execute_result"
    }
   ],
   "source": [
    "traindf.describe()"
   ]
  },
  {
   "cell_type": "code",
   "execution_count": 150,
   "metadata": {},
   "outputs": [
    {
     "data": {
      "text/html": [
       "<div>\n",
       "<style scoped>\n",
       "    .dataframe tbody tr th:only-of-type {\n",
       "        vertical-align: middle;\n",
       "    }\n",
       "\n",
       "    .dataframe tbody tr th {\n",
       "        vertical-align: top;\n",
       "    }\n",
       "\n",
       "    .dataframe thead th {\n",
       "        text-align: right;\n",
       "    }\n",
       "</style>\n",
       "<table border=\"1\" class=\"dataframe\">\n",
       "  <thead>\n",
       "    <tr style=\"text-align: right;\">\n",
       "      <th></th>\n",
       "      <th>x</th>\n",
       "      <th>y</th>\n",
       "    </tr>\n",
       "  </thead>\n",
       "  <tbody>\n",
       "    <tr>\n",
       "      <th>count</th>\n",
       "      <td>300.000000</td>\n",
       "      <td>300.000000</td>\n",
       "    </tr>\n",
       "    <tr>\n",
       "      <th>mean</th>\n",
       "      <td>50.936667</td>\n",
       "      <td>51.205051</td>\n",
       "    </tr>\n",
       "    <tr>\n",
       "      <th>std</th>\n",
       "      <td>28.504286</td>\n",
       "      <td>29.071481</td>\n",
       "    </tr>\n",
       "    <tr>\n",
       "      <th>min</th>\n",
       "      <td>0.000000</td>\n",
       "      <td>-3.467884</td>\n",
       "    </tr>\n",
       "    <tr>\n",
       "      <th>25%</th>\n",
       "      <td>27.000000</td>\n",
       "      <td>25.676502</td>\n",
       "    </tr>\n",
       "    <tr>\n",
       "      <th>50%</th>\n",
       "      <td>53.000000</td>\n",
       "      <td>52.170557</td>\n",
       "    </tr>\n",
       "    <tr>\n",
       "      <th>75%</th>\n",
       "      <td>73.000000</td>\n",
       "      <td>74.303007</td>\n",
       "    </tr>\n",
       "    <tr>\n",
       "      <th>max</th>\n",
       "      <td>100.000000</td>\n",
       "      <td>105.591837</td>\n",
       "    </tr>\n",
       "  </tbody>\n",
       "</table>\n",
       "</div>"
      ],
      "text/plain": [
       "                x           y\n",
       "count  300.000000  300.000000\n",
       "mean    50.936667   51.205051\n",
       "std     28.504286   29.071481\n",
       "min      0.000000   -3.467884\n",
       "25%     27.000000   25.676502\n",
       "50%     53.000000   52.170557\n",
       "75%     73.000000   74.303007\n",
       "max    100.000000  105.591837"
      ]
     },
     "execution_count": 150,
     "metadata": {},
     "output_type": "execute_result"
    }
   ],
   "source": [
    "testdf.describe()"
   ]
  },
  {
   "cell_type": "markdown",
   "metadata": {},
   "source": [
    "# Converting dataframes to numpy arrays"
   ]
  },
  {
   "cell_type": "code",
   "execution_count": 151,
   "metadata": {},
   "outputs": [],
   "source": [
    "trainx=xdf.to_numpy()\n",
    "trainy=ydf.to_numpy()\n",
    "\n",
    "testx=xdftest.to_numpy()\n",
    "testy=ydftest.to_numpy()"
   ]
  },
  {
   "cell_type": "markdown",
   "metadata": {},
   "source": [
    "# Checking for null values"
   ]
  },
  {
   "cell_type": "code",
   "execution_count": 152,
   "metadata": {},
   "outputs": [],
   "source": [
    "for i in range(len(trainx)):\n",
    "    if (np.isnan(trainx[i])==True):\n",
    "        trainx[i]=np.nanmean(trainx)\n",
    "        print(\"Null found in trainx and replaced with mean\")\n",
    "\n",
    "    if (np.isnan(trainy[i])==True):\n",
    "        trainy[i]=np.nanmean(trainy)\n",
    "        print(\"Null found in trainy and replaced with mean\")\n",
    "\n",
    "for i in range(len(testx)):\n",
    "    if (np.isnan(testx[i])==True):\n",
    "        testx[i]=np.nanmean(testx)\n",
    "        print(\"Null found in testx and replaced with mean\")\n",
    "\n",
    "    if (np.isnan(testy[i])==True):\n",
    "        testy[i]=np.nanmean(testy)\n",
    "        print(\"Null found in testy and replaced with mean\")"
   ]
  },
  {
   "cell_type": "markdown",
   "metadata": {},
   "source": [
    "# Plotting the initial training points"
   ]
  },
  {
   "cell_type": "code",
   "execution_count": 153,
   "metadata": {},
   "outputs": [
    {
     "data": {
      "image/png": "[encoded data removed]",
      "text/plain": [
       "<Figure size 432x288 with 1 Axes>"
      ]
     },
     "metadata": {
      "needs_background": "light"
     },
     "output_type": "display_data"
    }
   ],
   "source": [
    "plt.axhline(0,color='black') # plot horizontal axis at 0\n",
    "plt.axvline(0,color='black') # plot vertical axis at 0\n",
    "plt.scatter(trainx,trainy, color='blue')\n",
    "plt.xlabel('Training x-values') # label horizontal axis\n",
    "plt.ylabel('Training y-values') # label vertical axis\n",
    "plt.show() # show the plot"
   ]
  },
  {
   "cell_type": "markdown",
   "metadata": {},
   "source": [
    "# Defining functions"
   ]
  },
  {
   "cell_type": "code",
   "execution_count": 154,
   "metadata": {},
   "outputs": [],
   "source": [
    "def h(designMatrix, theta_val): # Regression function\n",
    "    return np.dot(designMatrix, theta_val) # linear regression using the dot product"
   ]
  },
  {
   "cell_type": "code",
   "execution_count": 155,
   "metadata": {},
   "outputs": [],
   "source": [
    "def GD(trainx,trainy, alpha, e):\n",
    "    theta_old=np.ones(2)\n",
    "    theta_new=np.zeros(2)\n",
    "    costs=[]\n",
    "    while (np.linalg.norm(theta_new-theta_old) > e):\n",
    "        theta_old=theta_new\n",
    "        ypred=np.dot(trainx,theta_old)\n",
    "        error=ypred-trainy\n",
    "        cost = 1/(2*trainy.size) * np.dot(error.T, error)\n",
    "        costs.append(cost)\n",
    "        theta_new=theta_old- alpha*(1/(trainy.size)*np.dot(trainx.T,error))\n",
    "        # print(theta_new)\n",
    "    return theta_new, costs"
   ]
  },
  {
   "cell_type": "markdown",
   "metadata": {},
   "source": [
    "# Gradient Descent"
   ]
  },
  {
   "cell_type": "code",
   "execution_count": 156,
   "metadata": {},
   "outputs": [],
   "source": [
    "trainx=np.c_[np.ones(len(trainx)),trainx]"
   ]
  },
  {
   "cell_type": "code",
   "execution_count": 157,
   "metadata": {},
   "outputs": [
    {
     "name": "stdout",
     "output_type": "stream",
     "text": [
      "Error before gradient descent\n",
      "4.511264121372126\n"
     ]
    }
   ],
   "source": [
    "theta_new=np.ones(2)\n",
    "print(\"Error before gradient descent\")\n",
    "total=np.subtract(np.dot(trainx,theta_new),trainy)\n",
    "# print(total)\n",
    "print(1/(2*trainy.size)*np.dot(total.T,total))\n",
    "PreGDError=1/(2*trainy.size)*np.dot(total.T,total)"
   ]
  },
  {
   "cell_type": "code",
   "execution_count": 158,
   "metadata": {
    "scrolled": true
   },
   "outputs": [
    {
     "name": "stdout",
     "output_type": "stream",
     "text": [
      "[[ 1. 24.]\n",
      " [ 1. 50.]\n",
      " [ 1. 15.]\n",
      " ...\n",
      " [ 1. 82.]\n",
      " [ 1. 66.]\n",
      " [ 1. 97.]]\n",
      "(699, 2)\n",
      "0.8974995613098145\n",
      "[0.01448365 0.96890115]\n"
     ]
    }
   ],
   "source": [
    "# print(trainx)\n",
    "\n",
    "print(trainx)\n",
    "print(trainx.shape)\n",
    "start_time=time.time()\n",
    "theta_new, GDcosts = GD(trainx, trainy, 0.0000001,0.00001)\n",
    "end_time=time.time()\n",
    "time_taken_initialGD=end_time-start_time\n",
    "print(time_taken_initialGD)\n",
    "print(theta_new)\n",
    "# print(costs)"
   ]
  },
  {
   "cell_type": "code",
   "execution_count": 159,
   "metadata": {},
   "outputs": [
    {
     "name": "stdout",
     "output_type": "stream",
     "text": [
      "Error after gradient descent\n",
      "5.431236315881504\n"
     ]
    }
   ],
   "source": [
    "print(\"Error after gradient descent\")\n",
    "total=np.subtract(np.dot(trainx,theta_new),trainy)\n",
    "# print(total)\n",
    "print(1/(2*trainy.size)*np.dot(total.T,total))\n",
    "PostGDError=1/(2*trainy.size)*np.dot(total.T,total)"
   ]
  },
  {
   "cell_type": "code",
   "execution_count": 160,
   "metadata": {},
   "outputs": [
    {
     "name": "stdout",
     "output_type": "stream",
     "text": [
      "[0.01448365 0.96890115]\n"
     ]
    },
    {
     "data": {
      "image/png": "[encoded data removed]",
      "text/plain": [
       "<Figure size 432x288 with 1 Axes>"
      ]
     },
     "metadata": {
      "needs_background": "light"
     },
     "output_type": "display_data"
    }
   ],
   "source": [
    "model_predictions=np.dot(trainx,theta_new) # for each data point obtain the predicted y value\n",
    "plot_order = trainx[:,1].argsort() # this just determines the order data points need to be plotted in (don't worry too much)\n",
    "\n",
    "print(theta_new)\n",
    "plt.axhline(0,color='black') # plot horizontal axis at 0\n",
    "plt.axvline(0,color='black') # plot vertical axis at 0\n",
    "plt.scatter(trainx[:,1],trainy, color='blue')\n",
    "plt.xlabel('Training x-values') # label horizontal axis\n",
    "plt.ylabel('Training y-values') # label vertical axis\n",
    "plt.plot(trainx[:,1][plot_order],model_predictions[plot_order], color='red') # plot the regression function's predicted value for each data point and connect it with a line\n",
    "plt.tight_layout()\n",
    "plt.show() # show the plot"
   ]
  },
  {
   "cell_type": "code",
   "execution_count": 161,
   "metadata": {},
   "outputs": [
    {
     "data": {
      "text/plain": [
       "[<matplotlib.lines.Line2D at 0x7f16a2c0ba60>]"
      ]
     },
     "execution_count": 161,
     "metadata": {},
     "output_type": "execute_result"
    },
    {
     "data": {
      "image/png": "[encoded data removed]",
      "text/plain": [
       "<Figure size 432x288 with 1 Axes>"
      ]
     },
     "metadata": {
      "needs_background": "light"
     },
     "output_type": "display_data"
    }
   ],
   "source": [
    "plt.plot(GDcosts,color='orange')"
   ]
  },
  {
   "cell_type": "markdown",
   "metadata": {},
   "source": [
    "# Testing with test dataset"
   ]
  },
  {
   "cell_type": "code",
   "execution_count": 162,
   "metadata": {},
   "outputs": [
    {
     "name": "stdout",
     "output_type": "stream",
     "text": [
      "7.10702277422844\n"
     ]
    }
   ],
   "source": [
    "testx=np.c_[np.ones(len(testx)),testx]\n",
    "ypred=np.dot(testx,theta_new)\n",
    "error=ypred-testy\n",
    "cost = 1/(2*testy.size) * np.dot(error.T, error)\n",
    "print(cost)\n",
    "TestGDError=1/(2*testy.size) * np.dot(error.T, error)"
   ]
  },
  {
   "cell_type": "markdown",
   "metadata": {},
   "source": [
    "# Testing different learning rates\n",
    "Learning rates from 0.1 right down to 0.1^10 were used in order to demonstrate efficiency as well as convergence of different learning rates."
   ]
  },
  {
   "cell_type": "code",
   "execution_count": 163,
   "metadata": {},
   "outputs": [],
   "source": [
    "alltheta0=[]\n",
    "alltheta1=[]\n",
    "allcosts=[]\n",
    "times=[]\n",
    "allerrors=[]\n",
    "alphas=[]\n",
    "for i in range(1,10):\n",
    "    start_time=time.time()\n",
    "    theta_new, costs = GD(trainx, trainy, 0.1**i,0.00001)\n",
    "    end_time = time.time()\n",
    "\n",
    "    total=np.subtract(np.dot(trainx,theta_new),trainy)\n",
    "    error=1/(2*35)*(np.sum(np.square(total)))\n",
    "\n",
    "    alphas.append(0.1**i)\n",
    "    alltheta0.append(theta_new[0])\n",
    "    alltheta1.append(theta_new[1])\n",
    "    allcosts.append(costs)\n",
    "    times.append(end_time-start_time)\n",
    "    allerrors.append(error)\n",
    "\n"
   ]
  },
  {
   "cell_type": "markdown",
   "metadata": {},
   "source": [
    "The following plot is to demonstrate the range of times taken to complete the standard gradient descent with differnt learning rates. As seen below, the smaller the learning rate, the longer the time taken to complete the calculation. However, this could be misleading as this is the time taken for the alogirthm to complete, it does not necessarily imply convergence."
   ]
  },
  {
   "cell_type": "code",
   "execution_count": 164,
   "metadata": {},
   "outputs": [
    {
     "data": {
      "image/png": "[encoded data removed]",
      "text/plain": [
       "<Figure size 720x504 with 1 Axes>"
      ]
     },
     "metadata": {
      "needs_background": "light"
     },
     "output_type": "display_data"
    }
   ],
   "source": [
    "model_predictions=np.dot(trainx,theta_new) # for each data point obtain the predicted y value\n",
    "plot_order = trainx[:,1].argsort() # this just determines the order data points need to be plotted in (don't worry too much)\n",
    "f=plt.figure()\n",
    "f.set_figwidth(10)\n",
    "f.set_figheight(7)\n",
    "plt.axhline(0,color='black') # plot horizontal axis at 0\n",
    "plt.axvline(0,color='black') # plot vertical axis at 0\n",
    "\n",
    "\n",
    "plt.title(\"Learning Rate vs Time\")\n",
    "plt.xlabel('Alpha') # label horizontal axis\n",
    "plt.ylabel('Time taken (s)') # label vertical axis\n",
    "\n",
    "# plt.plot(trainx[:,1][plot_order],model_predictions[plot_order], color='red') # plot the regression function's predicted value for each data point and connect it with a line\n",
    "plt.tight_layout()\n",
    "plt.subplots_adjust(bottom=0.1)\n",
    "\n",
    "plt.scatter(alphas,times, color='blue')\n",
    "plt.plot()\n",
    "plt.fill_between(alphas,times,alpha=0.7)\n",
    "plt.show() # show the plot"
   ]
  },
  {
   "cell_type": "code",
   "execution_count": 165,
   "metadata": {},
   "outputs": [
    {
     "name": "stdout",
     "output_type": "stream",
     "text": [
      "[nan, nan, nan, 0.014881190004462096, 0.014886319877521917, 0.014866212563433675, 0.014483654017936826, 0.010467370861277893, 4.993986917045781e-08]\n",
      "[nan, nan, nan, 0.9988092495237824, 0.9985382486361299, 0.9958425099669442, 0.9689011493741307, 0.69941250560298, 3.3354245845185367e-06]\n"
     ]
    }
   ],
   "source": [
    "print(alltheta0)\n",
    "print(alltheta1)"
   ]
  },
  {
   "cell_type": "code",
   "execution_count": 166,
   "metadata": {},
   "outputs": [
    {
     "data": {
      "text/plain": [
       "Text(0.5, 1.0, 'Alpha vs Theta')"
      ]
     },
     "execution_count": 166,
     "metadata": {},
     "output_type": "execute_result"
    },
    {
     "data": {
      "image/png": "[encoded data removed]",
      "text/plain": [
       "<Figure size 432x288 with 1 Axes>"
      ]
     },
     "metadata": {
      "needs_background": "light"
     },
     "output_type": "display_data"
    }
   ],
   "source": [
    "plt.scatter(alphas, alltheta0, s=80, marker=r'$\\alpha$')\n",
    "plt.scatter(alphas, alltheta1, s=60, marker=r'$\\alpha$')\n",
    "plt.title(\"Alpha vs Theta\")"
   ]
  },
  {
   "cell_type": "markdown",
   "metadata": {},
   "source": [
    "As seen above from the plotted theta values, there are only available paramters for smaller alhpas/learning rates (<=0.0001) which means the higher learning rates were unable to converge."
   ]
  },
  {
   "cell_type": "markdown",
   "metadata": {},
   "source": [
    "# Abnormal Alpha values"
   ]
  },
  {
   "cell_type": "code",
   "execution_count": 167,
   "metadata": {},
   "outputs": [
    {
     "name": "stdout",
     "output_type": "stream",
     "text": [
      "[0.01488632 0.99853825]\n"
     ]
    }
   ],
   "source": [
    "theta_new, costs = GD(trainx, trainy, 0.00001,0.00001)\n",
    "print(theta_new)"
   ]
  },
  {
   "cell_type": "markdown",
   "metadata": {},
   "source": [
    "# Feature scaling, standardization"
   ]
  },
  {
   "cell_type": "code",
   "execution_count": 168,
   "metadata": {
    "scrolled": true
   },
   "outputs": [],
   "source": [
    "trainx=xdf.to_numpy()\n",
    "trainy=ydf.to_numpy()\n",
    "mean=np.mean(trainx)\n",
    "max=np.amax(trainx)\n",
    "min=np.amin(trainx)\n",
    "s=np.std(trainx)"
   ]
  },
  {
   "cell_type": "code",
   "execution_count": 169,
   "metadata": {},
   "outputs": [],
   "source": [
    "trainx = trainx.astype('float')\n",
    "for i in range(len(trainx)):\n",
    "    trainx[i]=(trainx[i]-mean)/s"
   ]
  },
  {
   "cell_type": "code",
   "execution_count": 170,
   "metadata": {},
   "outputs": [],
   "source": [
    "trainx=np.c_[np.ones(len(trainx)),trainx]"
   ]
  },
  {
   "cell_type": "code",
   "execution_count": 171,
   "metadata": {
    "scrolled": true
   },
   "outputs": [
    {
     "name": "stdout",
     "output_type": "stream",
     "text": [
      "Error before scaled gradient descent\n",
      "1592.169710885085\n"
     ]
    }
   ],
   "source": [
    "theta_new=np.ones(2)\n",
    "print(\"Error before scaled gradient descent\")\n",
    "total=np.subtract(np.dot(trainx,theta_new),trainy)\n",
    "# print(total)\n",
    "print(1/(2*trainy.size)*np.dot(total.T,total))\n",
    "PreScaledError=1/(2*trainy.size)*np.dot(total.T,total)"
   ]
  },
  {
   "cell_type": "code",
   "execution_count": 172,
   "metadata": {},
   "outputs": [],
   "source": [
    "def GD(trainx,trainy, alpha, e):\n",
    "    theta_old=np.ones(2)\n",
    "    theta_new=np.zeros(2)\n",
    "    costs=[]\n",
    "    while (np.linalg.norm(theta_new-theta_old) > e):\n",
    "        theta_old=theta_new\n",
    "        ypred=np.dot(trainx,theta_old)\n",
    "        error=ypred-trainy\n",
    "        cost = 1/(2*trainy.size) * np.dot(error.T, error)\n",
    "        costs.append(cost)\n",
    "        theta_new=theta_old- alpha*(1/(trainy.size)*np.dot(trainx.T,error))\n",
    "        # print(theta_new)\n",
    "    return theta_new, costs"
   ]
  },
  {
   "cell_type": "code",
   "execution_count": 173,
   "metadata": {},
   "outputs": [
    {
     "name": "stdout",
     "output_type": "stream",
     "text": [
      "[49.85336808 28.90268369]\n"
     ]
    }
   ],
   "source": [
    "start_time=time.time()\n",
    "theta_new, Scaledcosts = GD(trainx, trainy, 0.0001,0.00001)\n",
    "end_time=time.time()\n",
    "time_taken_ScaledGD=end_time-start_time\n",
    "print(theta_new)"
   ]
  },
  {
   "cell_type": "code",
   "execution_count": 174,
   "metadata": {},
   "outputs": [
    {
     "name": "stdout",
     "output_type": "stream",
     "text": [
      "0.8974995613098145\n",
      "5.952338457107544\n"
     ]
    }
   ],
   "source": [
    "print(time_taken_initialGD)\n",
    "print(time_taken_ScaledGD)"
   ]
  },
  {
   "cell_type": "code",
   "execution_count": 175,
   "metadata": {},
   "outputs": [
    {
     "name": "stdout",
     "output_type": "stream",
     "text": [
      "Error after scaled gradient descent\n",
      "78.66496199939779\n"
     ]
    }
   ],
   "source": [
    "print(\"Error after scaled gradient descent\")\n",
    "total=np.subtract(np.dot(trainx,theta_new),trainy)\n",
    "# print(total)\n",
    "print(1/(2*35)*(np.sum(np.square(total))))\n",
    "PostScaledError=1/(2*35)*(np.sum(np.square(total)))"
   ]
  },
  {
   "cell_type": "code",
   "execution_count": 176,
   "metadata": {},
   "outputs": [
    {
     "name": "stdout",
     "output_type": "stream",
     "text": [
      "[49.85336808 28.90268369]\n"
     ]
    },
    {
     "data": {
      "image/png": "[encoded data removed]",
      "text/plain": [
       "<Figure size 432x288 with 1 Axes>"
      ]
     },
     "metadata": {
      "needs_background": "light"
     },
     "output_type": "display_data"
    }
   ],
   "source": [
    "model_predictions=np.dot(trainx,theta_new) # for each data point obtain the predicted y value\n",
    "plot_order = trainx[:,1].argsort() # this just determines the order data points need to be plotted in (don't worry too much)\n",
    "\n",
    "trainx=xdf.to_numpy()\n",
    "trainx=np.c_[np.ones(len(trainx)),trainx]\n",
    "\n",
    "print(theta_new)\n",
    "plt.axhline(0,color='black') # plot horizontal axis at 0\n",
    "plt.axvline(0,color='black') # plot vertical axis at 0\n",
    "plt.scatter(trainx[:,1],trainy, color='blue')\n",
    "plt.xlabel('Training x-values') # label horizontal axis\n",
    "plt.ylabel('Training y-values') # label vertical axis\n",
    "plt.plot(trainx[:,1][plot_order],model_predictions[plot_order], color='red') # plot the regression function's predicted value for each data point and connect it with a line\n",
    "plt.tight_layout()\n",
    "plt.show() # show the plot"
   ]
  },
  {
   "cell_type": "code",
   "execution_count": 177,
   "metadata": {
    "scrolled": true
   },
   "outputs": [
    {
     "data": {
      "text/plain": [
       "[<matplotlib.lines.Line2D at 0x7f16a3756f40>]"
      ]
     },
     "execution_count": 177,
     "metadata": {},
     "output_type": "execute_result"
    },
    {
     "data": {
      "image/png": "[encoded data removed]",
      "text/plain": [
       "<Figure size 432x288 with 1 Axes>"
      ]
     },
     "metadata": {
      "needs_background": "light"
     },
     "output_type": "display_data"
    }
   ],
   "source": [
    "# print(costs)\n",
    "plt.plot(Scaledcosts,color='orange')"
   ]
  },
  {
   "cell_type": "code",
   "execution_count": 178,
   "metadata": {
    "scrolled": true
   },
   "outputs": [
    {
     "name": "stdout",
     "output_type": "stream",
     "text": [
      "1396620.8941884697\n"
     ]
    }
   ],
   "source": [
    "ypred=np.dot(testx,theta_new)\n",
    "error=ypred-testy\n",
    "cost = 1/(2*testy.size) * np.dot(error.T, error)\n",
    "print(cost)\n",
    "TestScaledError=1/(2*testy.size) * np.dot(error.T, error)"
   ]
  },
  {
   "cell_type": "code",
   "execution_count": null,
   "metadata": {},
   "outputs": [],
   "source": []
  },
  {
   "cell_type": "markdown",
   "metadata": {},
   "source": [
    "# Implementing Regularization"
   ]
  },
  {
   "cell_type": "code",
   "execution_count": 179,
   "metadata": {},
   "outputs": [],
   "source": [
    "trainx=xdf.to_numpy()\n",
    "trainx=np.c_[np.ones(len(trainx)),trainx]\n"
   ]
  },
  {
   "cell_type": "code",
   "execution_count": 180,
   "metadata": {},
   "outputs": [
    {
     "name": "stdout",
     "output_type": "stream",
     "text": [
      "Error before gradient descent with regularization\n",
      "90.09638916683188\n"
     ]
    }
   ],
   "source": [
    "theta_new=np.ones(2)\n",
    "print(\"Error before gradient descent with regularization\")\n",
    "total=np.subtract(np.dot(trainx,theta_new),trainy)\n",
    "# print(total)\n",
    "print(1/(2*35)*(np.sum(np.square(total))))\n",
    "PreGDRError=(1/(2*35)*(np.sum(np.square(total))))"
   ]
  },
  {
   "cell_type": "code",
   "execution_count": 181,
   "metadata": {},
   "outputs": [],
   "source": [
    "def GDR(trainx,trainy, alpha, e, lam):\n",
    "    theta_old=np.ones(2)\n",
    "    theta_new=np.zeros(2)\n",
    "    costs=[]\n",
    "    while (np.linalg.norm(theta_new-theta_old) > e):\n",
    "        theta_old=theta_new\n",
    "        ypred=np.dot(trainx,theta_old)\n",
    "        error=ypred-trainy\n",
    "        cost = 1/(2*trainy.size) * np.dot(error.T, error)\n",
    "        costs.append(cost)\n",
    "        theta_new=theta_old*(1-alpha*(lam/len(trainx)))- alpha*(1/(trainy.size)*np.dot(trainx.T,error))\n",
    "        # print(theta_new)\n",
    "    return theta_new, costs"
   ]
  },
  {
   "cell_type": "code",
   "execution_count": 182,
   "metadata": {},
   "outputs": [
    {
     "name": "stdout",
     "output_type": "stream",
     "text": [
      "[0.01488113 0.99880497]\n"
     ]
    }
   ],
   "source": [
    "start_time=time.time()\n",
    "theta_new, Rcosts = GDR(trainx, trainy, 0.0001,0.00001,10)\n",
    "end_time=time.time()\n",
    "time_taken_GDR=end_time-start_time\n",
    "print(theta_new)"
   ]
  },
  {
   "cell_type": "code",
   "execution_count": 183,
   "metadata": {},
   "outputs": [
    {
     "name": "stdout",
     "output_type": "stream",
     "text": [
      "0.8974995613098145\n",
      "5.952338457107544\n",
      "0.003209829330444336\n"
     ]
    }
   ],
   "source": [
    "print(time_taken_initialGD)\n",
    "print(time_taken_ScaledGD)\n",
    "print(time_taken_GDR)"
   ]
  },
  {
   "cell_type": "code",
   "execution_count": 184,
   "metadata": {},
   "outputs": [
    {
     "name": "stdout",
     "output_type": "stream",
     "text": [
      "Error after scaled gradient descent\n",
      "78.6025049298349\n"
     ]
    }
   ],
   "source": [
    "print(\"Error after scaled gradient descent\")\n",
    "total=np.subtract(np.dot(trainx,theta_new),trainy)\n",
    "# print(total)\n",
    "print(1/(2*35)*(np.sum(np.square(total))))\n",
    "PostGDRError=1/(2*35)*(np.sum(np.square(total)))"
   ]
  },
  {
   "cell_type": "code",
   "execution_count": 185,
   "metadata": {},
   "outputs": [
    {
     "name": "stdout",
     "output_type": "stream",
     "text": [
      "[0.01488113 0.99880497]\n"
     ]
    },
    {
     "data": {
      "image/png": "[encoded data removed]",
      "text/plain": [
       "<Figure size 432x288 with 1 Axes>"
      ]
     },
     "metadata": {
      "needs_background": "light"
     },
     "output_type": "display_data"
    }
   ],
   "source": [
    "model_predictions=np.dot(trainx,theta_new) # for each data point obtain the predicted y value\n",
    "plot_order = trainx[:,1].argsort() # this just determines the order data points need to be plotted in (don't worry too much)\n",
    "\n",
    "trainx=xdf.to_numpy()\n",
    "trainx=np.c_[np.ones(len(trainx)),trainx]\n",
    "\n",
    "print(theta_new)\n",
    "plt.axhline(0,color='black') # plot horizontal axis at 0\n",
    "plt.axvline(0,color='black') # plot vertical axis at 0\n",
    "plt.scatter(trainx[:,1],trainy, color='blue')\n",
    "plt.xlabel('Training x-values') # label horizontal axis\n",
    "plt.ylabel('Training y-values') # label vertical axis\n",
    "plt.plot(trainx[:,1][plot_order],model_predictions[plot_order], color='red') # plot the regression function's predicted value for each data point and connect it with a line\n",
    "plt.tight_layout()\n",
    "plt.show() # show the plot"
   ]
  },
  {
   "cell_type": "code",
   "execution_count": 186,
   "metadata": {},
   "outputs": [
    {
     "data": {
      "text/plain": [
       "[<matplotlib.lines.Line2D at 0x7f16a364a940>]"
      ]
     },
     "execution_count": 186,
     "metadata": {},
     "output_type": "execute_result"
    },
    {
     "data": {
      "image/png": "[encoded data removed]",
      "text/plain": [
       "<Figure size 432x288 with 1 Axes>"
      ]
     },
     "metadata": {
      "needs_background": "light"
     },
     "output_type": "display_data"
    }
   ],
   "source": [
    "# print(costs)\n",
    "plt.plot(Rcosts,color='orange')"
   ]
  },
  {
   "cell_type": "code",
   "execution_count": 187,
   "metadata": {},
   "outputs": [
    {
     "name": "stdout",
     "output_type": "stream",
     "text": [
      "4.729216740168552\n"
     ]
    }
   ],
   "source": [
    "ypred=np.dot(testx,theta_new)\n",
    "error=ypred-testy\n",
    "cost = 1/(2*testy.size) * np.dot(error.T, error)\n",
    "print(cost)\n",
    "TestGDRError=1/(2*testy.size) * np.dot(error.T, error)"
   ]
  },
  {
   "cell_type": "markdown",
   "metadata": {},
   "source": [
    "# Comparisons"
   ]
  },
  {
   "cell_type": "markdown",
   "metadata": {},
   "source": [
    "Comparing the cost functions"
   ]
  },
  {
   "cell_type": "code",
   "execution_count": 188,
   "metadata": {},
   "outputs": [
    {
     "data": {
      "text/plain": [
       "[<matplotlib.lines.Line2D at 0x7f16a35be520>]"
      ]
     },
     "execution_count": 188,
     "metadata": {},
     "output_type": "execute_result"
    },
    {
     "data": {
      "image/png": "[encoded data removed]",
      "text/plain": [
       "<Figure size 432x288 with 1 Axes>"
      ]
     },
     "metadata": {
      "needs_background": "light"
     },
     "output_type": "display_data"
    }
   ],
   "source": [
    "plt.plot(GDcosts,color='orange')\n",
    "plt.plot(Scaledcosts,color='green')\n",
    "plt.plot(Rcosts,color='blue')"
   ]
  },
  {
   "cell_type": "code",
   "execution_count": 189,
   "metadata": {},
   "outputs": [
    {
     "name": "stdout",
     "output_type": "stream",
     "text": [
      "+--------------------------------------+-------------------+------------------+--------------+-----------------+\n",
      "| Method                               |   Error before GD |   Error after GD |   Change (%) |   Testing Error |\n",
      "+======================================+===================+==================+==============+=================+\n",
      "| Standard Gradient Descent            |           4.51126 |          5.43124 |     -16.9385 |     7.10702     |\n",
      "+--------------------------------------+-------------------+------------------+--------------+-----------------+\n",
      "| Scaled Gradient Descent              |        1592.17    |         78.665   |    1923.99   |     1.39662e+06 |\n",
      "+--------------------------------------+-------------------+------------------+--------------+-----------------+\n",
      "| Gradient Descent with Regularization |          90.0964  |         78.6025  |      14.6228 |     4.72922     |\n",
      "+--------------------------------------+-------------------+------------------+--------------+-----------------+\n"
     ]
    }
   ],
   "source": [
    "# assign data\n",
    "ErrorData = [\n",
    "    [\"Standard Gradient Descent\",PreGDError, PostGDError,((PreGDError-PostGDError)/PostGDError)*100, TestGDError],\n",
    "    [\"Scaled Gradient Descent\",PreScaledError, PostScaledError,((PreScaledError-PostScaledError)/PostScaledError)*100, TestScaledError],\n",
    "    [\"Gradient Descent with Regularization\",PreGDRError, PostGDRError,((PreGDRError-PostGDRError)/PostGDRError)*100, TestGDRError],\n",
    "]\n",
    " \n",
    "# create header\n",
    "head = [\"Method\", \"Error before GD\",\"Error after GD\",\"Change (%)\",\"Testing Error\"]\n",
    " \n",
    "# display table\n",
    "print(tabulate(ErrorData, headers=head, tablefmt=\"grid\"))"
   ]
  },
  {
   "cell_type": "code",
   "execution_count": 190,
   "metadata": {},
   "outputs": [
    {
     "name": "stdout",
     "output_type": "stream",
     "text": [
      "+--------------------------------------+-----------------------------------------+\n",
      "| Method                               |   Time taken to perform computation (s) |\n",
      "+======================================+=========================================+\n",
      "| Standard Gradient Descent            |                              0.8975     |\n",
      "+--------------------------------------+-----------------------------------------+\n",
      "| Scaled Gradient Descent              |                              5.95234    |\n",
      "+--------------------------------------+-----------------------------------------+\n",
      "| Gradient Descent with Regularization |                              0.00320983 |\n",
      "+--------------------------------------+-----------------------------------------+\n"
     ]
    }
   ],
   "source": [
    "# print(time_taken_initialGD)\n",
    "# print(time_taken_ScaledGD)\n",
    "# print(time_taken_GDR)\n",
    "\n",
    "TimeData=['Standard Gradient Descent',time_taken_initialGD],['Scaled Gradient Descent',time_taken_ScaledGD],['Gradient Descent with Regularization',time_taken_GDR]\n",
    "head=['Method','Time taken to perform computation (s)']\n",
    "print(tabulate(TimeData, headers=head, tablefmt=\"grid\"))"
   ]
  },
  {
   "cell_type": "markdown",
   "metadata": {},
   "source": [
    "As seen above in the above two tables, the scaled gradient descent provides the best improved error however not the lowest. The GD with regularization proves the best in terms of testing. \n",
    "\n",
    "In terms of time performance, the gradient descent with regularization has the quickest time, this could be due to the fact that it helps the model converge faster."
   ]
  }
 ],
 "metadata": {
  "kernelspec": {
   "display_name": "Python 3",
   "language": "python",
   "name": "python3"
  },
  "language_info": {
   "codemirror_mode": {
    "name": "ipython",
    "version": 3
   },
   "file_extension": ".py",
   "mimetype": "text/x-python",
   "name": "python",
   "nbconvert_exporter": "python",
   "pygments_lexer": "ipython3",
   "version": "3.8.10"
  }
 },
 "nbformat": 4,
 "nbformat_minor": 4
}
